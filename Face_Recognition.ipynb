{
 "cells": [
  {
   "cell_type": "code",
   "execution_count": 2,
   "id": "26c6c8db",
   "metadata": {},
   "outputs": [
    {
     "name": "stdout",
     "output_type": "stream",
     "text": [
      "Collecting mediapipe\n",
      "  Downloading mediapipe-0.8.9.1-cp310-cp310-win_amd64.whl (48.5 MB)\n",
      "     ---------------------------------------- 48.5/48.5 MB 1.5 MB/s eta 0:00:00\n",
      "Requirement already satisfied: numpy in c:\\users\\yuvra\\appdata\\local\\programs\\python\\python310\\lib\\site-packages (from mediapipe) (1.22.3)\n",
      "Collecting opencv-contrib-python\n",
      "  Downloading opencv_contrib_python-4.5.5.64-cp36-abi3-win_amd64.whl (42.2 MB)\n",
      "     -------------------------------------- 42.2/42.2 MB 778.0 kB/s eta 0:00:00\n",
      "Requirement already satisfied: matplotlib in c:\\users\\yuvra\\appdata\\local\\programs\\python\\python310\\lib\\site-packages (from mediapipe) (3.5.1)\n",
      "Requirement already satisfied: attrs>=19.1.0 in c:\\users\\yuvra\\appdata\\local\\programs\\python\\python310\\lib\\site-packages (from mediapipe) (21.4.0)\n",
      "Collecting absl-py\n",
      "  Downloading absl_py-1.0.0-py3-none-any.whl (126 kB)\n",
      "     ------------------------------------ 126.7/126.7 KB 746.3 kB/s eta 0:00:00\n",
      "Collecting protobuf>=3.11.4\n",
      "  Downloading protobuf-3.20.0-cp310-cp310-win_amd64.whl (903 kB)\n",
      "     -------------------------------------- 903.8/903.8 KB 1.3 MB/s eta 0:00:00\n",
      "Requirement already satisfied: six in c:\\users\\yuvra\\appdata\\local\\programs\\python\\python310\\lib\\site-packages (from absl-py->mediapipe) (1.16.0)\n",
      "Requirement already satisfied: cycler>=0.10 in c:\\users\\yuvra\\appdata\\local\\programs\\python\\python310\\lib\\site-packages (from matplotlib->mediapipe) (0.11.0)\n",
      "Requirement already satisfied: fonttools>=4.22.0 in c:\\users\\yuvra\\appdata\\local\\programs\\python\\python310\\lib\\site-packages (from matplotlib->mediapipe) (4.32.0)\n",
      "Requirement already satisfied: packaging>=20.0 in c:\\users\\yuvra\\appdata\\local\\programs\\python\\python310\\lib\\site-packages (from matplotlib->mediapipe) (21.3)\n",
      "Requirement already satisfied: pyparsing>=2.2.1 in c:\\users\\yuvra\\appdata\\local\\programs\\python\\python310\\lib\\site-packages (from matplotlib->mediapipe) (3.0.8)\n",
      "Requirement already satisfied: kiwisolver>=1.0.1 in c:\\users\\yuvra\\appdata\\local\\programs\\python\\python310\\lib\\site-packages (from matplotlib->mediapipe) (1.4.2)\n",
      "Requirement already satisfied: python-dateutil>=2.7 in c:\\users\\yuvra\\appdata\\local\\programs\\python\\python310\\lib\\site-packages (from matplotlib->mediapipe) (2.8.2)\n",
      "Requirement already satisfied: pillow>=6.2.0 in c:\\users\\yuvra\\appdata\\local\\programs\\python\\python310\\lib\\site-packages (from matplotlib->mediapipe) (9.1.0)\n",
      "Installing collected packages: protobuf, opencv-contrib-python, absl-py, mediapipe\n",
      "Successfully installed absl-py-1.0.0 mediapipe-0.8.9.1 opencv-contrib-python-4.5.5.64 protobuf-3.20.0\n",
      "Collecting mediapipe\n",
      "  Using cached mediapipe-0.8.9.1-cp310-cp310-win_amd64.whl (48.5 MB)\n",
      "Collecting opencv-contrib-python\n",
      "  Downloading opencv_contrib_python-4.5.5.64-cp36-abi3-win_amd64.whl (42.2 MB)\n",
      "     -------------------------------------- 42.2/42.2 MB 921.4 kB/s eta 0:00:00\n",
      "Requirement already satisfied: numpy in c:\\users\\yuvra\\appdata\\local\\programs\\python\\python310\\lib\\site-packages (from mediapipe) (1.22.3)\n",
      "Collecting absl-py\n",
      "  Using cached absl_py-1.0.0-py3-none-any.whl (126 kB)\n",
      "Requirement already satisfied: attrs>=19.1.0 in c:\\users\\yuvra\\appdata\\local\\programs\\python\\python310\\lib\\site-packages (from mediapipe) (21.4.0)\n",
      "Requirement already satisfied: matplotlib in c:\\users\\yuvra\\appdata\\local\\programs\\python\\python310\\lib\\site-packages (from mediapipe) (3.5.1)\n",
      "Collecting protobuf>=3.11.4\n",
      "  Using cached protobuf-3.20.0-cp310-cp310-win_amd64.whl (903 kB)\n",
      "Requirement already satisfied: six in c:\\users\\yuvra\\appdata\\local\\programs\\python\\python310\\lib\\site-packages (from absl-py->mediapipe) (1.16.0)\n",
      "Requirement already satisfied: packaging>=20.0 in c:\\users\\yuvra\\appdata\\local\\programs\\python\\python310\\lib\\site-packages (from matplotlib->mediapipe) (21.3)\n",
      "Requirement already satisfied: pillow>=6.2.0 in c:\\users\\yuvra\\appdata\\local\\programs\\python\\python310\\lib\\site-packages (from matplotlib->mediapipe) (9.1.0)\n",
      "Requirement already satisfied: python-dateutil>=2.7 in c:\\users\\yuvra\\appdata\\local\\programs\\python\\python310\\lib\\site-packages (from matplotlib->mediapipe) (2.8.2)\n",
      "Requirement already satisfied: kiwisolver>=1.0.1 in c:\\users\\yuvra\\appdata\\local\\programs\\python\\python310\\lib\\site-packages (from matplotlib->mediapipe) (1.4.2)\n",
      "Requirement already satisfied: cycler>=0.10 in c:\\users\\yuvra\\appdata\\local\\programs\\python\\python310\\lib\\site-packages (from matplotlib->mediapipe) (0.11.0)\n",
      "Requirement already satisfied: fonttools>=4.22.0 in c:\\users\\yuvra\\appdata\\local\\programs\\python\\python310\\lib\\site-packages (from matplotlib->mediapipe) (4.32.0)\n",
      "Requirement already satisfied: pyparsing>=2.2.1 in c:\\users\\yuvra\\appdata\\local\\programs\\python\\python310\\lib\\site-packages (from matplotlib->mediapipe) (3.0.8)\n",
      "Installing collected packages: protobuf, opencv-contrib-python, absl-py, mediapipe\n",
      "Successfully installed absl-py-1.0.0 mediapipe-0.8.9.1 opencv-contrib-python-4.5.5.64 protobuf-3.20.0\n"
     ]
    }
   ],
   "source": [
    "!pip install mediapipe --user"
   ]
  },
  {
   "cell_type": "code",
   "execution_count": 67,
   "id": "bd1d18e7",
   "metadata": {},
   "outputs": [],
   "source": [
    "import mediapipe as mp"
   ]
  },
  {
   "cell_type": "code",
   "execution_count": 68,
   "id": "3bcc4c90",
   "metadata": {},
   "outputs": [],
   "source": [
    "drawing_details=mp.solutions.drawing_utils"
   ]
  },
  {
   "cell_type": "code",
   "execution_count": 69,
   "id": "cc9f64fc",
   "metadata": {},
   "outputs": [],
   "source": [
    "import cv2"
   ]
  },
  {
   "cell_type": "markdown",
   "id": "0772430f",
   "metadata": {},
   "source": [
    "# NOTE:Mediapipe works in RGB and OpenCV in BGR"
   ]
  },
  {
   "cell_type": "markdown",
   "id": "678741cf",
   "metadata": {},
   "source": [
    "# FACE DETECTION "
   ]
  },
  {
   "cell_type": "code",
   "execution_count": 108,
   "id": "f0a73a50",
   "metadata": {},
   "outputs": [],
   "source": [
    "with mp.solutions.face_detection.FaceDetection(model_selection=1,min_detection_confidence=0.5) as face_Detect:\n",
    "    img=cv2.imread(\"image1.jpg\")\n",
    "    res=face_Detect.process(img)\n",
    "    if res.detections:\n",
    "        for detect in res.detections:\n",
    "            drawing_details.draw_detection(img,detect)\n",
    "    cv2.imshow(\"WebCam\",img)\n",
    "    cv2.waitKey(0)\n",
    "    cv2.destroyAllWindows()"
   ]
  },
  {
   "cell_type": "code",
   "execution_count": 109,
   "id": "7b5618dc",
   "metadata": {},
   "outputs": [],
   "source": [
    "cap=cv2.VideoCapture(0)\n",
    "with mp.solutions.face_detection.FaceDetection(model_selection=1,min_detection_confidence=0.5) as face_Detect:\n",
    "    while True:\n",
    "        _,frame=cap.read()\n",
    "        cvtImg=cv2.cvtColor(frame,cv2.COLOR_BGR2RGB)\n",
    "        res=face_Detect.process(cvtImg)\n",
    "\n",
    "        if res.detections:\n",
    "            for detect in res.detections:\n",
    "                drawing_details.draw_detection(frame,detect)\n",
    "        cv2.imshow('Webcam',frame)\n",
    "        if cv2.waitKey(1)==ord('q'):\n",
    "            break\n",
    "            \n",
    "cv2.destroyAllWindows()\n",
    "cap.release()        "
   ]
  },
  {
   "cell_type": "markdown",
   "id": "972e6584",
   "metadata": {},
   "source": [
    "# Face Mesh\n"
   ]
  },
  {
   "cell_type": "code",
   "execution_count": 112,
   "id": "515090ee",
   "metadata": {},
   "outputs": [],
   "source": [
    "mp_face_mesh = mp.solutions.face_mesh\n",
    "with mp_face_mesh.FaceMesh(min_detection_confidence=0.5,min_tracking_confidence=0.5) as face_mesh:\n",
    "    img = cv2.imread(\"image2.jpg\")\n",
    "    res = face_mesh.process(img)\n",
    "    if res.multi_face_landmarks :\n",
    "        for detect in res.multi_face_landmarks :\n",
    "            drawing_details.draw_landmarks(img,landmark_list=detect)\n",
    "    cv2.imshow('webcam',img)\n",
    "    cv2.waitKey(0)\n",
    "    cv2.destroyAllWindows()"
   ]
  },
  {
   "cell_type": "code",
   "execution_count": 78,
   "id": "927ae594",
   "metadata": {},
   "outputs": [],
   "source": [
    "cap=cv2.VideoCapture(0)\n",
    "mp_face_mesh=mp.solutions.face_mesh\n",
    "with mp_face_mesh.FaceMesh(min_detection_confidence=0.5,min_tracking_confidence=0.5) as face_mesh:\n",
    "    while True:\n",
    "        _,frame=cap.read()\n",
    "        cvtImg=cv2.cvtColor(frame,cv2.COLOR_BGR2RGB)\n",
    "        res=face_mesh.process(cvtImg)\n",
    "\n",
    "        if res.multi_face_landmarks:\n",
    "            for detect in res.multi_face_landmarks:\n",
    "                drawing_details.draw_landmarks(frame,landmark_list=detect)\n",
    "        cv2.imshow('Webcam',frame) \n",
    "        if cv2.waitKey(1)==ord('q'):\n",
    "            break\n",
    "            \n",
    "cv2.destroyAllWindows()\n",
    "cap.release()        \n"
   ]
  },
  {
   "cell_type": "markdown",
   "id": "291bb1a5",
   "metadata": {},
   "source": [
    "# Hand Detection"
   ]
  },
  {
   "cell_type": "code",
   "execution_count": 113,
   "id": "fbd8727f",
   "metadata": {},
   "outputs": [],
   "source": [
    "mp_hands= mp.solutions.hands\n",
    "with mp_hands.Hands(min_detection_confidence=0.5,min_tracking_confidence=0.5) as hands:\n",
    "    img=cv2.imread('image3.jpg')\n",
    "    res = hands.process(cv2.cvtColor(img,cv2.COLOR_BGR2RGB))\n",
    "    if  res.multi_hand_landmarks:\n",
    "        for mesh in res.multi_hand_landmarks :\n",
    "            drawing_details.draw_landmarks(img,mesh)\n",
    "cv2.imshow('webcam',img)\n",
    "cv2.waitKey(0)\n",
    "cv2.destroyAllWindows()"
   ]
  },
  {
   "cell_type": "code",
   "execution_count": 114,
   "id": "a92b0931",
   "metadata": {},
   "outputs": [],
   "source": [
    "cap = cv2.VideoCapture(0)\n",
    "mp_hands= mp.solutions.hands\n",
    "with mp_hands.Hands(min_detection_confidence=0.5,min_tracking_confidence=0.5) as hands:\n",
    "    while cap.isOpened():\n",
    "        success,frame= cap.read()\n",
    "        if not success :\n",
    "            continue\n",
    "        frame=cv2.flip(frame,1);\n",
    "        frame =cv2.cvtColor(frame,cv2.COLOR_BGR2RGB) \n",
    "        res = hands.process(frame)\n",
    "        if  res.multi_hand_landmarks :\n",
    "            for mesh in res.multi_hand_landmarks :\n",
    "                drawing_details.draw_landmarks(frame,mesh,mp_hands.HAND_CONNECTIONS)\n",
    "        frame =cv2.cvtColor(frame,cv2.COLOR_RGB2BGR)\n",
    "        cv2.imshow('webcam',frame)\n",
    "        if cv2.waitKey(1)==ord('q'):\n",
    "            break;qq\n",
    "cv2.destroyAllWindows()\n",
    "cap.release()"
   ]
  },
  {
   "cell_type": "markdown",
   "id": "557cdefd",
   "metadata": {},
   "source": [
    "# Pose Detection"
   ]
  },
  {
   "cell_type": "code",
   "execution_count": 122,
   "id": "970c930f",
   "metadata": {},
   "outputs": [],
   "source": [
    "mp_pose = mp.solutions.pose\n",
    "with mp_pose.Pose(min_detection_confidence=0.5,min_tracking_confidence=0.5) as pose:\n",
    "    img=cv2.imread('image4.jpg')\n",
    "    res = pose.process(cv2.cvtColor(img,cv2.COLOR_BGR2RGB))\n",
    "    if  res.pose_landmarks:\n",
    "        drawing_details.draw_landmarks(img,res.pose_landmarks,mp_pose.POSE_CONNECTIONS)\n",
    "cv2.imshow('webcam',img)\n",
    "cv2.waitKey(0)\n",
    "cv2.destroyAllWindows()"
   ]
  },
  {
   "cell_type": "code",
   "execution_count": 123,
   "id": "048a8c76",
   "metadata": {},
   "outputs": [],
   "source": [
    "cap = cv2.VideoCapture(0)\n",
    "mp_pose= mp.solutions.pose\n",
    "with mp_pose.Pose(min_detection_confidence=0.5,min_tracking_confidence=0.5) as pose:\n",
    "    while cap.isOpened():\n",
    "        success,frame= cap.read()\n",
    "        if not success :\n",
    "            continue\n",
    "        frame=cv2.flip(frame,1);\n",
    "        frame =cv2.cvtColor(frame,cv2.COLOR_BGR2RGB) \n",
    "        res = pose.process(frame)\n",
    "        if  res.pose_landmarks :\n",
    "            drawing_details.draw_landmarks(frame,res.pose_landmarks,mp_pose.POSE_CONNECTIONS)\n",
    "        frame =cv2.cvtColor(frame,cv2.COLOR_RGB2BGR)\n",
    "        cv2.imshow('webcam',frame)\n",
    "        if cv2.waitKey(1)==ord('q'):\n",
    "            break;\n",
    "cv2.destroyAllWindows()\n",
    "cap.release()"
   ]
  },
  {
   "cell_type": "markdown",
   "id": "d86e7072",
   "metadata": {},
   "source": [
    "# Holistic"
   ]
  },
  {
   "cell_type": "code",
   "execution_count": 124,
   "id": "93524414",
   "metadata": {},
   "outputs": [],
   "source": [
    "mp_drawing = mp.solutions.drawing_utils\n",
    "mp_holistic = mp.solutions.holistic\n",
    "with mp_holistic.Holistic(min_detection_confidence=0.5,min_tracking_confidence=0.5) as holistic:\n",
    "    img=cv2.imread('image4.jpg')\n",
    "    results = holistic.process(cv2.cvtColor(img,cv2.COLOR_BGR2RGB))\n",
    "    image_height,image_width,_ =img.shape\n",
    "    mp_drawing.draw_landmarks(\n",
    "       img, results.left_hand_landmarks, mp_holistic.HAND_CONNECTIONS)\n",
    "    mp_drawing.draw_landmarks(\n",
    "        img, results.right_hand_landmarks, mp_holistic.HAND_CONNECTIONS)\n",
    "    mp_drawing.draw_landmarks(\n",
    "        img, results.pose_landmarks, mp_holistic.POSE_CONNECTIONS)\n",
    "cv2.imshow('webcam',img)\n",
    "cv2.waitKey(0)\n",
    "cv2.destroyAllWindows()"
   ]
  },
  {
   "cell_type": "code",
   "execution_count": 125,
   "id": "b193d3ed",
   "metadata": {},
   "outputs": [],
   "source": [
    "cap = cv2.VideoCapture(0)\n",
    "mp_drawing = mp.solutions.drawing_utils\n",
    "mp_holistic = mp.solutions.holistic\n",
    "mp_pose= mp.solutions.pose\n",
    "with mp_holistic.Holistic(min_detection_confidence=0.5,min_tracking_confidence=0.5) as holistic:\n",
    "    while cap.isOpened():\n",
    "        success,frame= cap.read()\n",
    "        if not success :\n",
    "            continue\n",
    "        frame=cv2.flip(frame,1);\n",
    "        frame =cv2.cvtColor(frame,cv2.COLOR_BGR2RGB) \n",
    "        results = holistic.process(frame)\n",
    "        mp_drawing.draw_landmarks(\n",
    "           frame, results.left_hand_landmarks, mp_holistic.HAND_CONNECTIONS)\n",
    "        mp_drawing.draw_landmarks(\n",
    "            frame, results.right_hand_landmarks, mp_holistic.HAND_CONNECTIONS)\n",
    "        mp_drawing.draw_landmarks(\n",
    "            frame, results.pose_landmarks, mp_holistic.POSE_CONNECTIONS)\n",
    "        frame =cv2.cvtColor(frame,cv2.COLOR_RGB2BGR)\n",
    "        cv2.imshow('webcam',frame)\n",
    "        if cv2.waitKey(1)==ord('q'):\n",
    "            break;\n",
    "cv2.destroyAllWindows()\n",
    "cap.release()\n"
   ]
  }
 ],
 "metadata": {
  "kernelspec": {
   "display_name": "Python 3 (ipykernel)",
   "language": "python",
   "name": "python3"
  },
  "language_info": {
   "codemirror_mode": {
    "name": "ipython",
    "version": 3
   },
   "file_extension": ".py",
   "mimetype": "text/x-python",
   "name": "python",
   "nbconvert_exporter": "python",
   "pygments_lexer": "ipython3",
   "version": "3.10.4"
  }
 },
 "nbformat": 4,
 "nbformat_minor": 5
}
